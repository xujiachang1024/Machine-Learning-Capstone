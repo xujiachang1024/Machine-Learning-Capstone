{
 "cells": [
  {
   "cell_type": "code",
   "execution_count": null,
   "metadata": {
    "collapsed": true
   },
   "outputs": [],
   "source": [
    "%matplotlib inline\n",
    "\n",
    "\n",
    "# Dependencies\n",
    "import random\n",
    "import pandas as pd\n",
    "\n",
    "\n",
    "# Set the seed (reproducibility)\n",
    "random.seed(0)\n",
    "\n",
    "\n",
    "# Data import and cleaning\n",
    "df = pd.read_csv(\"./speedbumps.csv\")  # read data from the .csv file\n",
    "df = df.loc[:, ('speedbump', 'Speed', 'X', 'Y', 'Z', 'z_jolt')]  # only select relevant columns\n",
    "keywords = ['yes', 'no']\n",
    "mapping = [1, 0]\n",
    "df = df.replace(keywords, mapping)\n",
    "print(df.head(10))\n"
   ]
  },
  {
   "cell_type": "code",
   "execution_count": null,
   "metadata": {},
   "outputs": [],
   "source": [
    "from sklearn.model_selection import train_test_split\n",
    "from sklearn.tree import DecisionTreeClassifier\n",
    "from sklearn import metrics\n",
    "\n",
    "\n",
    "# Separate Y and X variables\n",
    "df_label = df.loc[:, 'speedbump']\n",
    "df_feature = df.loc[:, ('Speed', 'Z', 'z_jolt')]\n",
    "Y = df_label.as_matrix()\n",
    "X = df_feature.as_matrix()\n",
    "\n",
    "\n",
    "# Prepare for cross-validation\n",
    "clf = DecisionTreeClassifier()  # create a DecisionTreeClassifier\n",
    "f1_sum = 0.00  # sum of F1 scores\n",
    "cv = 10;  # number of cross-validations\n",
    "\n",
    "\n",
    "# Start cross-validation\n",
    "for i in range(0, cv, 1):\n",
    "\n",
    "    # split to train and test sets\n",
    "    train_X, test_X, train_Y, test_Y = train_test_split(X, Y, test_size=0.2, shuffle=True)\n",
    "\n",
    "    # start training\n",
    "    clf = clf.fit(train_X, train_Y)  # fit the training data\n",
    "\n",
    "    # start testing\n",
    "    predicted_Y = clf.predict(test_X)  # predict on the testing data\n",
    "\n",
    "    # calculate the F1 score\n",
    "    f1 = metrics.f1_score(test_Y, predicted_Y, average='binary')  # calculate the F1 score\n",
    "    f1_sum += f1\n",
    "\n",
    "    # calculate the confusion matrix\n",
    "    matrix = metrics.confusion_matrix(test_Y, predicted_Y)\n",
    "\n",
    "    # print iterative result\n",
    "    print('\\n-----------------------------------')\n",
    "    print('Iteration ', i)\n",
    "    print('Features: speed, Z-accel, Z-jolt')\n",
    "    print('Labels: speedbump (1 = yes, 0 = no)')\n",
    "    print('F1 score:', f1)\n",
    "    print(matrix)\n",
    "\n",
    "\n",
    "# Calculate cross-validation average\n",
    "f1_average = f1_sum / cv\n",
    "print('\\n-----------------------------------')\n",
    "print('sklearn Decision Tree Model')\n",
    "print('\\tFeatures: speed, Z-accel, Z-jolt')\n",
    "print('\\tLabels: speedbump (1 = yes, 0 = no)')\n",
    "print('\\tAverage F1 score:', f1_average)\n"
   ]
  }
 ],
 "metadata": {
  "kernelspec": {
   "display_name": "Python 2",
   "language": "python",
   "name": "python2"
  },
  "language_info": {
   "codemirror_mode": {
    "name": "ipython",
    "version": 2
   },
   "file_extension": ".py",
   "mimetype": "text/x-python",
   "name": "python",
   "nbconvert_exporter": "python",
   "pygments_lexer": "ipython2",
   "version": "2.7.6"
  }
 },
 "nbformat": 4,
 "nbformat_minor": 0
}
